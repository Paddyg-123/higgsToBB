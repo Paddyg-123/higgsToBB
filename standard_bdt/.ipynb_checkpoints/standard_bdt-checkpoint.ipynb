{
 "cells": [
  {
   "cell_type": "markdown",
   "metadata": {},
   "source": [
    "# Training a Standard BDT in Python "
   ]
  },
  {
   "cell_type": "code",
   "execution_count": 3,
   "metadata": {},
   "outputs": [],
   "source": [
    "import pandas\n",
    "import numpy\n",
    "import sys\n",
    "sys.path.append(\"../\")\n",
    "sys.path.append(\"../plotting/\")\n",
    "import pickle\n",
    "\n",
    "import matplotlib.cm as cm\n",
    "from sklearn.preprocessing import scale\n",
    "\n",
    "from finalHistogramPlot import *\n",
    "from sensitivity import *\n",
    "from xgboost import XGBClassifier\n",
    "from IPython.display import  display\n",
    "from sklearn.ensemble import AdaBoostClassifier\n",
    "from sklearn.tree import DecisionTreeClassifier\n",
    "import time\n",
    "import threading\n",
    "\n",
    "%matplotlib inline"
   ]
  },
  {
   "cell_type": "code",
   "execution_count": 6,
   "metadata": {
    "collapsed": true
   },
   "outputs": [],
   "source": [
    "_paths = {'2jet-even':'../CSV/VHbb_data_2jet_even.csv',\n",
    "          '2jet-odd':'../CSV/VHbb_data_2jet_odd.csv',\n",
    "        '3jet-even':'../CSV/VHbb_data_3jet_even.csv',\n",
    "          '3jet-odd':'../CSV/VHbb_data_3jet_odd.csv'}\n",
    "\n",
    "variables_2 = [ 'dRBB','mBB',\n",
    "             'pTB1', 'pTB2', 'MET',\n",
    "             'dPhiVBB','dPhiLBmin','Mtop',\n",
    "             'dYWH', 'mTW', 'pTV', 'MV1cB1', 'MV1cB2',]\n",
    "\n",
    "variables_3 = [ 'MV1cB1', 'MV1cB2', 'mBB', 'dRBB', \n",
    "             'pTB1', 'pTB2', 'MET', 'dPhiVBB', 'dPhiLBmin',\n",
    "        'Mtop', 'dYWH', 'mTW', 'pTV', 'mBBJ', 'pTJ3', 'MV1cJ3']\n",
    "\n",
    "var = {'2':variables_2,'3':variables_3}\n",
    "\n",
    "scored_dfs = {}\n",
    "\n",
    "def combined_sensitivty(x,y,err_x,err_y):\n",
    "    sens = np.sqrt(x**2 + y**2)\n",
    "    error = np.sqrt(((x*err_x)/np.sqrt(x**2 + y**2))**2 + ((y*err_y)/np.sqrt(x**2 + y**2))**2)\n",
    "    \n",
    "    return (sens,error)"
   ]
  },
  {
   "cell_type": "markdown",
   "metadata": {},
   "source": [
    "#### Ada Boost"
   ]
  },
  {
   "cell_type": "code",
   "execution_count": 4,
   "metadata": {},
   "outputs": [
    {
     "name": "stdout",
     "output_type": "stream",
     "text": [
      "2 Jet training...\n",
      "3 Jet training...\n",
      "3 Jet using the Standard BDT: 2.527121245494239 ± 0.0872923849644031\n",
      "3 Jet using the Standard BDT: 1.4551627511357164 ± 0.032557946999315586\n",
      "Combined Sensitivity 2.52862843255 ± 1.45429583681\n"
     ]
    }
   ],
   "source": [
    "start = time.time()\n",
    "for nJets in [2,3]:\n",
    "    \n",
    "    if nJets ==2:\n",
    "    \n",
    "        variables = ['dRBB','mBB',\n",
    "                     'pTB1', 'pTB2', 'MET',\n",
    "                     'dPhiVBB','dPhiLBmin','Mtop',\n",
    "                     'dYWH', 'mTW', 'pTV',]\n",
    "        n_estimators = 200\n",
    "        max_depth = 4\n",
    "        learning_rate = 0.15\n",
    "\n",
    "    else:\n",
    "         \n",
    "        variables = ['mBB', 'dRBB', \n",
    "             'pTB1', 'pTB2', 'MET', 'dPhiVBB', 'dPhiLBmin',\n",
    "        'Mtop', 'dYWH', 'mTW', 'pTV', 'mBBJ', 'pTJ3']\n",
    "        \n",
    "        n_estimators = 300\n",
    "        max_depth = 4\n",
    "        learning_rate = 0.15\n",
    "        \n",
    "\n",
    "    df_k1_2= pd.read_csv(_paths[str(nJets)+'jet-even'])\n",
    "    df_k2_2= pd.read_csv(_paths[str(nJets)+'jet-odd'])\n",
    "\n",
    "\n",
    "\n",
    "    bdt_even = AdaBoostClassifier(DecisionTreeClassifier(max_depth=max_depth, min_samples_leaf=0.01),\n",
    "                                          learning_rate=learning_rate,\n",
    "                                          algorithm=\"SAMME\",\n",
    "                                          n_estimators=n_estimators\n",
    "                                          )\n",
    "\n",
    "    bdt_odd = AdaBoostClassifier(DecisionTreeClassifier(max_depth=max_depth, min_samples_leaf=0.01),\n",
    "                                         learning_rate=0.15,\n",
    "                                         algorithm=\"SAMME\",\n",
    "                                         n_estimators=n_estimators\n",
    "                                         )\n",
    "\n",
    "\n",
    "    print(str(nJets)+\" Jet training...\")\n",
    "    \n",
    "    bdt_even.fit(df_k1_2[variables], df_k1_2['Class'], sample_weight=df_k1_2['training_weight'])\n",
    "\n",
    "    bdt_odd.fit(df_k2_2[variables], df_k2_2['Class'], sample_weight=df_k2_2['training_weight'])\n",
    "\n",
    "\n",
    "    df_k1_2['decision_value'] = bdt_odd.decision_function(df_k1_2[variables]).tolist()\n",
    "    df_k2_2['decision_value'] = bdt_even.decision_function(df_k2_2[variables]).tolist()\n",
    "\n",
    "    df = pd.concat([df_k1_2,df_k2_2])\n",
    "    \n",
    "    if nJets ==2:\n",
    "        result_2 = calc_sensitivity_with_error(df)\n",
    "\n",
    "    else:\n",
    "        result_3 = calc_sensitivity_with_error(df)\n",
    "        \n",
    "\n",
    "print(str(nJets) + \" Jet using the Standard BDT: \"+ str(result_2[0]) + \" ± \"+ str(result_2[1]))\n",
    "print(str(nJets) + \" Jet using the Standard BDT: \"+ str(result_3[0]) + \" ± \"+ str(result_3[1]))\n",
    "\n",
    "result_combined = combined_sensitivty(result_2[0],result_3[0],result_2[1],result_3[1])\n",
    "\n",
    "print(\"Combined Sensitivity\", result_combined[0], \"±\",result_combined[1])\n",
    "print(\"Time Taken\", time.time() - start)\n",
    "    \n"
   ]
  },
  {
   "cell_type": "markdown",
   "metadata": {},
   "source": [
    "## XGBoost\n",
    "\n",
    "* Training a BDT using XGBoost algorithm."
   ]
  },
  {
   "cell_type": "code",
   "execution_count": null,
   "metadata": {},
   "outputs": [
    {
     "name": "stdout",
     "output_type": "stream",
     "text": [
      "training...\n",
      "TrafoD 21\n",
      "TrafoD 21\n",
      "21\n"
     ]
    },
    {
     "name": "stderr",
     "output_type": "stream",
     "text": [
      "/Users/ishankhurana/anaconda3/lib/python3.6/site-packages/matplotlib/axes/_base.py:3449: UserWarning: Attempted to set non-positive ylimits for log-scale axis; invalid limits will be ignored.\n",
      "  'Attempted to set non-positive ylimits for log-scale axis; '\n",
      "/Users/ishankhurana/anaconda3/lib/python3.6/site-packages/matplotlib/text.py:2096: UserWarning: You have used the `textcoords` kwarg, but not the `xytext` kwarg.  This can lead to surprising results.\n",
      "  warnings.warn(\"You have used the `textcoords` kwarg, but not \"\n"
     ]
    },
    {
     "data": {
      "image/png": "[encoded data removed]",
      "text/plain": [
       "<Figure size 612x504 with 1 Axes>"
      ]
     },
     "metadata": {},
     "output_type": "display_data"
    },
    {
     "name": "stdout",
     "output_type": "stream",
     "text": [
      "training...\n"
     ]
    }
   ],
   "source": [
    "start = time.time()\n",
    "for nJets in [2,3]:\n",
    "    \n",
    "    if nJets ==2:\n",
    "    \n",
    "        variables = ['dRBB','mBB',\n",
    "                     'pTB1', 'pTB2', 'MET',\n",
    "                     'dPhiVBB','dPhiLBmin','Mtop',\n",
    "                     'dYWH', 'mTW', 'pTV',]\n",
    "        n_estimators = 200\n",
    "        max_depth = 4\n",
    "        learning_rate = 0.05\n",
    "        subsample = 0.5\n",
    "\n",
    "    else:\n",
    "         \n",
    "        variables = ['mBB', 'dRBB', \n",
    "             'pTB1', 'pTB2', 'MET', 'dPhiVBB', 'dPhiLBmin',\n",
    "        'Mtop', 'dYWH', 'mTW', 'pTV', 'mBBJ', 'pTJ3']\n",
    "        \n",
    "        n_estimators = 300\n",
    "        max_depth = 4\n",
    "        learning_rate = 0.05\n",
    "        subsample = 0.5\n",
    "\n",
    "\n",
    "    df_k1_2= pd.read_csv(_paths[str(nJets)+'jet-even'])\n",
    "    df_k2_2= pd.read_csv(_paths[str(nJets)+'jet-odd'])\n",
    "\n",
    "\n",
    "    xgb_even = XGBClassifier(n_estimators=n_estimators, \n",
    "                             max_depth=max_depth, \n",
    "                             learning_rate=learning_rate,\n",
    "                             subsample=subsample)\n",
    "    xgb_odd = XGBClassifier(n_estimators=n_estimators, \n",
    "                             max_depth=max_depth, \n",
    "                             learning_rate=learning_rate,\n",
    "                             subsample=subsample)\n",
    "\n",
    "\n",
    "\n",
    "    def train_even():\n",
    "        print(\"training even...\")\n",
    "        xgb_even.fit(df_k1_2[variables], df_k1_2['Class'], sample_weight=df_k1_2['training_weight'])\n",
    "    def train_odd():\n",
    "        print(\"training odd...\")\n",
    "        xgb_odd.fit(df_k2_2[variables], df_k2_2['Class'], sample_weight=df_k2_2['training_weight'])\n",
    "\n",
    "    t = threading.Thread(target=train_even)\n",
    "    t2 = threading.Thread(target=train_odd)\n",
    "\n",
    "    t.start()\n",
    "    t2.start()\n",
    "    t.join()\n",
    "    t2.join()\n",
    "\n",
    "    scores_even = xgb_odd.predict_proba(df_k1_2[variables])[:,1]\n",
    "    scores_odd = xgb_even.predict_proba(df_k2_2[variables])[:,1]\n",
    "\n",
    "    df_k1_2['decision_value'] = ((scores_even-0.5)*2)\n",
    "    df_k2_2['decision_value'] = ((scores_odd-0.5)*2)\n",
    "    df = pd.concat([df_k1_2,df_k2_2])\n",
    "\n",
    "    if nJets ==2:\n",
    "        result_2 = calc_sensitivity_with_error(df)\n",
    "\n",
    "    else:\n",
    "        result_3 = calc_sensitivity_with_error(df)\n",
    "    \n",
    "    final_decision_plot(df)\n",
    "\n",
    "print(str(nJets) + \" Jet using the Standard BDT: \"+ str(result_2[0]) + \" ± \"+ str(result_2[1]))\n",
    "print(str(nJets) + \" Jet using the Standard BDT: \"+ str(result_3[0]) + \" ± \"+ str(result_3[1]))\n",
    "\n",
    "\n",
    "result_combined = combined_sensitivty(result_2[0],result_3[0],result_2[1],result_3[1])\n",
    "\n",
    "print(\"Combined Sensitivity\", result_combined[0], \"±\",result_combined[1])\n",
    "print(\"Time Taken\", time.time() - start)\n"
   ]
  },
  {
   "cell_type": "markdown",
   "metadata": {
    "collapsed": true
   },
   "source": [
    "## Adding Binned *b*-tagging\n",
    "\n"
   ]
  },
  {
   "cell_type": "code",
   "execution_count": 59,
   "metadata": {},
   "outputs": [
    {
     "name": "stdout",
     "output_type": "stream",
     "text": [
      "training...\n",
      "2 Jet using Nominal Variables + Binned b-tagging: 2.826266767304154 ± 0.13977473183510372\n"
     ]
    },
    {
     "ename": "NameError",
     "evalue": "name 'result_3' is not defined",
     "output_type": "error",
     "traceback": [
      "\u001b[0;31m---------------------------------------------------------------------------\u001b[0m",
      "\u001b[0;31mNameError\u001b[0m                                 Traceback (most recent call last)",
      "\u001b[0;32m<ipython-input-59-5a3bf766e703>\u001b[0m in \u001b[0;36m<module>\u001b[0;34m()\u001b[0m\n\u001b[1;32m     60\u001b[0m \u001b[0;34m\u001b[0m\u001b[0m\n\u001b[1;32m     61\u001b[0m \u001b[0mprint\u001b[0m\u001b[0;34m(\u001b[0m\u001b[0mstr\u001b[0m\u001b[0;34m(\u001b[0m\u001b[0mnJets\u001b[0m\u001b[0;34m)\u001b[0m \u001b[0;34m+\u001b[0m \u001b[0;34m\" Jet using Nominal Variables + Binned b-tagging: \"\u001b[0m\u001b[0;34m+\u001b[0m \u001b[0mstr\u001b[0m\u001b[0;34m(\u001b[0m\u001b[0mresult_2\u001b[0m\u001b[0;34m[\u001b[0m\u001b[0;36m0\u001b[0m\u001b[0;34m]\u001b[0m\u001b[0;34m)\u001b[0m \u001b[0;34m+\u001b[0m \u001b[0;34m\" ± \"\u001b[0m\u001b[0;34m+\u001b[0m \u001b[0mstr\u001b[0m\u001b[0;34m(\u001b[0m\u001b[0mresult_2\u001b[0m\u001b[0;34m[\u001b[0m\u001b[0;36m1\u001b[0m\u001b[0;34m]\u001b[0m\u001b[0;34m)\u001b[0m\u001b[0;34m)\u001b[0m\u001b[0;34m\u001b[0m\u001b[0m\n\u001b[0;32m---> 62\u001b[0;31m \u001b[0mprint\u001b[0m\u001b[0;34m(\u001b[0m\u001b[0mstr\u001b[0m\u001b[0;34m(\u001b[0m\u001b[0mnJets\u001b[0m\u001b[0;34m)\u001b[0m \u001b[0;34m+\u001b[0m \u001b[0;34m\" Jet using Nominal Variables + Binned b-tagging:\"\u001b[0m\u001b[0;34m+\u001b[0m \u001b[0mstr\u001b[0m\u001b[0;34m(\u001b[0m\u001b[0mresult_3\u001b[0m\u001b[0;34m[\u001b[0m\u001b[0;36m0\u001b[0m\u001b[0;34m]\u001b[0m\u001b[0;34m)\u001b[0m \u001b[0;34m+\u001b[0m \u001b[0;34m\" ± \"\u001b[0m\u001b[0;34m+\u001b[0m \u001b[0mstr\u001b[0m\u001b[0;34m(\u001b[0m\u001b[0mresult_3\u001b[0m\u001b[0;34m[\u001b[0m\u001b[0;36m1\u001b[0m\u001b[0;34m]\u001b[0m\u001b[0;34m)\u001b[0m\u001b[0;34m)\u001b[0m\u001b[0;34m\u001b[0m\u001b[0m\n\u001b[0m\u001b[1;32m     63\u001b[0m \u001b[0;34m\u001b[0m\u001b[0m\n\u001b[1;32m     64\u001b[0m \u001b[0;34m\u001b[0m\u001b[0m\n",
      "\u001b[0;31mNameError\u001b[0m: name 'result_3' is not defined"
     ]
    }
   ],
   "source": [
    "for nJets in [2]:\n",
    "    \n",
    "    if nJets ==2:\n",
    "    \n",
    "        variables = [ 'dRBB','mBB',\n",
    "                     'pTB1', 'pTB2', 'MET',\n",
    "                     'dPhiVBB','dPhiLBmin','Mtop',\n",
    "                     'dYWH', 'mTW', 'pTV', 'MV1cB1', 'MV1cB2',]\n",
    "        n_estimators = 280\n",
    "        max_depth = 5\n",
    "        learning_rate = 0.05\n",
    "        subsample  = 0.5\n",
    "\n",
    "    else:\n",
    "         \n",
    "        variables = ['MV1cB1', 'MV1cB2', 'mBB', 'dRBB', \n",
    "                     'pTB1', 'pTB2', 'MET', 'dPhiVBB', 'dPhiLBmin',\n",
    "                'Mtop', 'dYWH', 'mTW', 'pTV', 'mBBJ', 'pTJ3', 'MV1cJ3']\n",
    "        \n",
    "        n_estimators = 350\n",
    "        max_depth = 5\n",
    "        learning_rate = 0.05\n",
    "        subsample  = 0.5\n",
    "        \n",
    "\n",
    "    df_k1_2= pd.read_csv(_paths[str(nJets)+'jet-even'])\n",
    "    df_k2_2= pd.read_csv(_paths[str(nJets)+'jet-odd'])\n",
    "\n",
    "\n",
    "    xgb_even = XGBClassifier(n_estimators=n_estimators, \n",
    "                             max_depth=max_depth, \n",
    "                             learning_rate=learning_rate,\n",
    "                             subsample=subsample)\n",
    "    xgb_odd = XGBClassifier(n_estimators=n_estimators, \n",
    "                             max_depth=max_depth, \n",
    "                             learning_rate=learning_rate,\n",
    "                             subsample=subsample)\n",
    "\n",
    "\n",
    "\n",
    "    print(\"training...\")\n",
    "    xgb_even.fit(df_k1_2[variables], df_k1_2['Class'], sample_weight=df_k1_2['training_weight'])\n",
    "\n",
    "    xgb_odd.fit(df_k2_2[variables], df_k2_2['Class'], sample_weight=df_k2_2['training_weight'])\n",
    "\n",
    "\n",
    "    scores_even = xgb_odd.predict_proba(df_k1_2[variables])[:,1]\n",
    "    scores_odd = xgb_even.predict_proba(df_k2_2[variables])[:,1]\n",
    "\n",
    "    df_k1_2['decision_value'] = ((scores_even-0.5)*2)\n",
    "    df_k2_2['decision_value'] = ((scores_odd-0.5)*2)\n",
    "    df = pd.concat([df_k1_2,df_k2_2])\n",
    "\n",
    "    if nJets ==2:\n",
    "        result_2 = calc_sensitivity_with_error(df)\n",
    "\n",
    "    else:\n",
    "        result_3 = calc_sensitivity_with_error(df)\n",
    "        \n",
    "\n",
    "print(str(nJets) + \" Jet using Nominal Variables + Binned b-tagging: \"+ str(result_2[0]) + \" ± \"+ str(result_2[1]))\n",
    "print(str(nJets) + \" Jet using Nominal Variables + Binned b-tagging:\"+ str(result_3[0]) + \" ± \"+ str(result_3[1]))\n",
    "\n",
    "\n",
    "result_combined = combined_sensitivty(result_2[0],result_3[0],result_2[1],result_3[1])\n",
    "\n",
    "print(\"Combined Sensitivity\", result_combined[0], \"±\",result_combined[1])\n"
   ]
  },
  {
   "cell_type": "code",
   "execution_count": 3,
   "metadata": {},
   "outputs": [
    {
     "name": "stdout",
     "output_type": "stream",
     "text": [
      "TrafoD 21\n",
      "21\n"
     ]
    },
    {
     "name": "stderr",
     "output_type": "stream",
     "text": [
      "/Users/ishankhurana/anaconda3/lib/python3.6/site-packages/matplotlib/text.py:2138: UserWarning: You have used the `textcoords` kwarg, but not the `xytext` kwarg.  This can lead to surprising results.\n",
      "  warnings.warn(\"You have used the `textcoords` kwarg, but not \"\n"
     ]
    },
    {
     "data": {
      "image/png": "[encoded data removed]",
      "text/plain": [
       "<matplotlib.figure.Figure at 0x1a132d9080>"
      ]
     },
     "metadata": {},
     "output_type": "display_data"
    }
   ],
   "source": [
    "import sys\n",
    "sys.path.append(\"/Users/ishankhurana/anaconda3/lib/python3.6/site-packages/\")\n",
    "sys.path.append(\"../\")\n",
    "import numpy as np\n",
    "import pandas as pd\n",
    "import matplotlib as plt\n",
    "from matplotlib.ticker import AutoMinorLocator\n",
    "from mpl_toolkits.axes_grid.anchored_artists import AnchoredText\n",
    "from matplotlib.text import OffsetFrom\n",
    "from sensitivity import *\n",
    "from pickle_functions import *\n",
    "\n",
    "class_names_grouped = ['VH -> Vbb','Diboson','ttbar','Single top', 'W+(bb,bc,cc,bl)','W+cl','W+ll','Z+(bb,bc,cc,bl)',\n",
    "                       'Z+cl','Z+ll'\n",
    "                       ]\n",
    "\n",
    "class_names_map = {'VH -> Vbb':['ggZllH125','ggZvvH125','qqWlvH125', 'qqZllH125', 'qqZvvH125'],\n",
    "    'Diboson':['WW','ZZ','WZ'],\n",
    "    'ttbar':['ttbar'],\n",
    "    'Single top':['stopWt','stops','stopt'],\n",
    "    'W+(bb,bc,cc,bl)':['Wbb','Wbc','Wcc','Wbl'],\n",
    "    'W+cl':['Wcl'],\n",
    "    'W+ll':['Wl'],\n",
    "    'Z+(bb,bc,cc,bl)':['Zbb','Zbc','Zcc','Zbl'],\n",
    "    'Z+cl':['Zcl'],\n",
    "    'Z+ll':['Zl']\n",
    "}\n",
    "\n",
    "colour_map = {'VH -> Vbb':'#FF0000',\n",
    "    'Diboson':'#999999',\n",
    "    'ttbar':'#FFCC00',\n",
    "    'Single top':'#CC9900',\n",
    "    'W+(bb,bc,cc,bl)':'#006600',\n",
    "    'W+cl':'#66CC66',\n",
    "    'W+ll':'#99FF99',\n",
    "    'Z+(bb,bc,cc,bl)':'#0066CC',\n",
    "    'Z+cl':'#6699CC',\n",
    "    'Z+ll':'#99CCFF'\n",
    "}\n",
    "\n",
    "legend_names = [r'VH $\\rightarrow$ Vbb','Diboson',r\"t$\\bar t$\",'Single top', 'W+(bb,bc,cc,bl)','W+cl','W+ll','Z+(bb,bc,cc,bl)',\n",
    "                'Z+cl','Z+ll'\n",
    "                ]\n",
    "\n",
    "def final_decision_plot(df,z_s = 10,z_b = 10,show=False, block=False, trafoD_bins = True, bin_number = 15):\n",
    "    \"\"\"Plots histogram decision score output of classifier\"\"\"\n",
    "\n",
    "    nJets = df['nJ'].tolist()[1]\n",
    "\n",
    "    if trafoD_bins == True:\n",
    "        bins, arg2, arg3 = trafoD_with_error(df,z_s = z_s,z_b = z_b)\n",
    "        print(len(bins))\n",
    "    else:\n",
    "         bins = np.linspace(-1,1,bin_number+1)\n",
    "\n",
    "    # Initialise plot stuff\n",
    "    plt.ion()\n",
    "    plt.close(\"all\")\n",
    "    fig = plt.figure(figsize=(8.5,7))\n",
    "    plot_range = (-1, 1)\n",
    "    plot_data = []\n",
    "    plot_weights = []\n",
    "    plot_colors = []\n",
    "    plt.rc('font', weight='bold')\n",
    "    plt.rc('xtick.major', size=5, pad=7)\n",
    "    plt.rc('xtick', labelsize=10)\n",
    "\n",
    "    plt.rcParams[\"font.weight\"] = \"bold\"\n",
    "    plt.rcParams[\"axes.labelweight\"] = \"bold\"\n",
    "    plt.rcParams[\"mathtext.default\"] = \"regular\"\n",
    "\n",
    "    df = setBinCategory(df,bins)\n",
    "\n",
    "    bins = np.linspace(-1,1,len(bins))\n",
    "\n",
    "    decision_value_list = df['bin_scaled'].tolist()\n",
    "    post_fit_weight_list = df['post_fit_weight'].tolist()\n",
    "    sample_list = df['sample'].tolist()\n",
    "\n",
    "    # Get list of hists.\n",
    "    for t in class_names_grouped[::-1]:\n",
    "        class_names = class_names_map[t]\n",
    "        class_decision_vals = []\n",
    "        plot_weight_vals = []\n",
    "        for c in class_names:\n",
    "            for x in range(0,len(decision_value_list)):\n",
    "                if sample_list[x] == c:\n",
    "                    class_decision_vals.append(decision_value_list[x])\n",
    "                    plot_weight_vals.append(post_fit_weight_list[x])\n",
    "\n",
    "        plot_data.append(class_decision_vals)\n",
    "        plot_weights.append(plot_weight_vals)\n",
    "        plot_colors.append(colour_map[t])\n",
    "\n",
    "    # Plot.\n",
    "    if nJets == 2:\n",
    "\n",
    "        multiplier = 20\n",
    "    elif nJets == 3:\n",
    "        multiplier = 100\n",
    "\n",
    "    plt.plot([],[],color='#FF0000',label=r'VH $\\rightarrow$ Vbb x '+str(multiplier))\n",
    "\n",
    "    plt.hist(plot_data,\n",
    "             bins=bins,\n",
    "             weights=plot_weights,\n",
    "             range=plot_range,\n",
    "             rwidth=1,\n",
    "             color=plot_colors,\n",
    "             label=legend_names[::-1],\n",
    "             stacked=True,\n",
    "             edgecolor='none')\n",
    "\n",
    "    df_sig = df.loc[df['Class']==1]\n",
    "\n",
    "\n",
    "\n",
    "    plt.hist(df_sig['bin_scaled'].tolist(),\n",
    "         bins=bins,\n",
    "         weights=(df_sig['post_fit_weight']*multiplier).tolist(),\n",
    "         range=plot_range,\n",
    "         rwidth=1,\n",
    "         histtype = 'step',\n",
    "         linewidth=2,\n",
    "         color='#FF0000',\n",
    "         edgecolor='#FF0000')\n",
    "\n",
    "    x1, x2, y1, y2 = plt.axis()\n",
    "    plt.yscale('log', nonposy='clip')\n",
    "    plt.axis((x1, x2, y1, y2 * 1.2))\n",
    "    axes = plt.gca()\n",
    "    axes.set_ylim([5,135000])\n",
    "    axes.set_xlim([-1,1])\n",
    "    x = [-1,-0.8,-0.6,-0.4,-0.2,0,0.2,0.4,0.6,0.8,1]\n",
    "    plt.xticks(x, x,fontweight = 'normal',fontsize = 20)\n",
    "    y = [r\"10\",r\"10$^{2}$\",r\"10$^{3}$\",r\"10$^{4}$\",r\"10$^{5}$\"]\n",
    "    yi = [10,100,1000,10000,100000]\n",
    "    plt.yticks(yi, y,fontweight = 'normal',fontsize = 20)\n",
    "\n",
    "    axes.yaxis.set_ticks_position('both')\n",
    "    axes.yaxis.set_tick_params(which='major', direction='in', length=10, width=1)\n",
    "    axes.yaxis.set_tick_params(which='minor', direction='in', length=5, width=1)\n",
    "\n",
    "    axes.xaxis.set_ticks_position('both')\n",
    "    axes.xaxis.set_tick_params(which='major', direction='in', length=10, width=1)\n",
    "    axes.xaxis.set_tick_params(which='minor', direction='in', length=5, width=1)\n",
    "\n",
    "    axes.xaxis.set_minor_locator(AutoMinorLocator(4))\n",
    "    handles, labels = axes.get_legend_handles_labels()\n",
    "\n",
    "    #Weird hack thing to get legend entries in correct order\n",
    "    handles = handles[::-1]\n",
    "    handles = handles+handles\n",
    "    handles = handles[1:12]\n",
    "\n",
    "    plt.legend(loc='upper right', ncol=1, prop={'size': 12},frameon=False,\n",
    "               handles=handles)\n",
    "\n",
    "    plt.ylabel(\"Events\",fontsize = 20,fontweight='normal')\n",
    "    axes.yaxis.set_label_coords(-0.07,0.93)\n",
    "    plt.xlabel(r\"BDT$_{VH}$ output\",fontsize = 20,fontweight='normal')\n",
    "    axes.xaxis.set_label_coords(0.89, -0.07)\n",
    "    an1 = axes.annotate(\"ATLAS Internal\", xy=(0.05, 0.91), xycoords=axes.transAxes,fontstyle = 'italic',fontsize = 16)\n",
    "\n",
    "    offset_from = OffsetFrom(an1, (0, -1.4))\n",
    "    an2 = axes.annotate(r'$\\sqrt{s}$' + \" = 13 TeV , 36.1 fb$^{-1}$\", xy=(0.05,0.91), xycoords=axes.transAxes, textcoords=offset_from, fontweight='normal',fontsize = 12)\n",
    "\n",
    "    offset_from = OffsetFrom(an2, (0, -1.4))\n",
    "    an3 = axes.annotate(\"1 lepton, \"+str(nJets)+\" jets, 2 b-tags\", xy=(0.05,0.91), xycoords=axes.transAxes, textcoords=offset_from,fontstyle = 'italic',fontsize = 12)\n",
    "\n",
    "    offset_from = OffsetFrom(an3, (0, -1.6))\n",
    "    an4 = axes.annotate(\"p$^V_T \\geq$ 150 GeV\", xy=(0.05,0.91), xycoords=axes.transAxes, textcoords=offset_from,fontstyle = 'italic',fontsize = 12)\n",
    "\n",
    "    plt.show(block=block)\n",
    "\n",
    "\n",
    "    return fig\n",
    "\n",
    "\n",
    "def variable_plot(df,z_s = 10,z_b = 5,show=False, block=False, trafoD_bins = True, bin_number = 15):\n",
    "    \"\"\"Plots histogram decision score output of classifier\"\"\"\n",
    "\n",
    "    nJets = df['nJ'].tolist()[1]\n",
    "\n",
    "    if trafoD_bins == True:\n",
    "        bins, arg2, arg3 = trafoD_with_error(df,z_s = z_s,z_b = z_b)\n",
    "    else:\n",
    "         bins = np.linspace(-1,1,bin_number+1)\n",
    "\n",
    "    # Initialise plot stuff\n",
    "    plt.ion()\n",
    "    plt.close(\"all\")\n",
    "    fig = plt.figure(figsize=(8.5,7))\n",
    "    plot_range = (-1, 1)\n",
    "    plot_data = []\n",
    "    plot_weights = []\n",
    "    plot_colors = []\n",
    "    plt.rc('font', weight='bold')\n",
    "    plt.rc('xtick.major', size=5, pad=7)\n",
    "    plt.rc('xtick', labelsize=10)\n",
    "\n",
    "    plt.rcParams[\"font.weight\"] = \"bold\"\n",
    "    plt.rcParams[\"axes.labelweight\"] = \"bold\"\n",
    "    plt.rcParams[\"mathtext.default\"] = \"regular\"\n",
    "\n",
    "    df = setBinCategory(df,bins)\n",
    "\n",
    "    bins = np.linspace(-1,1,len(bins))\n",
    "\n",
    "    decision_value_list = df['bin_scaled'].tolist()\n",
    "    post_fit_weight_list = df['post_fit_weight'].tolist()\n",
    "    sample_list = df['sample'].tolist()\n",
    "\n",
    "    # Get list of hists.\n",
    "    for t in class_names_grouped[::-1]:\n",
    "        class_names = class_names_map[t]\n",
    "        class_decision_vals = []\n",
    "        plot_weight_vals = []\n",
    "        for c in class_names:\n",
    "            for x in range(0,len(decision_value_list)):\n",
    "                if sample_list[x] == c:\n",
    "                    class_decision_vals.append(decision_value_list[x])\n",
    "                    plot_weight_vals.append(post_fit_weight_list[x])\n",
    "\n",
    "        plot_data.append(class_decision_vals)\n",
    "        plot_weights.append(plot_weight_vals)\n",
    "        plot_colors.append(colour_map[t])\n",
    "\n",
    "    # Plot.\n",
    "    if nJets == 2:\n",
    "\n",
    "        multiplier = 20\n",
    "    elif nJets == 3:\n",
    "        multiplier = 100\n",
    "\n",
    "    plt.plot([],[],color='#FF0000',label=r'VH $\\rightarrow$ Vbb x '+str(multiplier))\n",
    "\n",
    "    plt.hist(plot_data,\n",
    "             bins=bins,\n",
    "             weights=plot_weights,\n",
    "             range=plot_range,\n",
    "             rwidth=1,\n",
    "             color=plot_colors,\n",
    "             label=legend_names[::-1],\n",
    "             stacked=True,\n",
    "             edgecolor='none')\n",
    "\n",
    "    df_sig = df.loc[df['Class']==1]\n",
    "\n",
    "\n",
    "\n",
    "    plt.hist(df_sig['bin_scaled'].tolist(),\n",
    "         bins=bins,\n",
    "         weights=(df_sig['post_fit_weight']*multiplier).tolist(),\n",
    "         range=plot_range,\n",
    "         rwidth=1,\n",
    "         histtype = 'step',\n",
    "         linewidth=2,\n",
    "         color='#FF0000',\n",
    "         edgecolor='#FF0000')\n",
    "\n",
    "    x1, x2, y1, y2 = plt.axis()\n",
    "    plt.yscale('log', nonposy='clip')\n",
    "    plt.axis((x1, x2, y1, y2 * 1.2))\n",
    "    axes = plt.gca()\n",
    "    axes.set_ylim([5,135000])\n",
    "    axes.set_xlim([-1,1])\n",
    "    x = [-1,-0.8,-0.6,-0.4,-0.2,0,0.2,0.4,0.6,0.8,1]\n",
    "    plt.xticks(x, x,fontweight = 'normal',fontsize = 20)\n",
    "    y = [r\"10\",r\"10$^{2}$\",r\"10$^{3}$\",r\"10$^{4}$\",r\"10$^{5}$\"]\n",
    "    yi = [10,100,1000,10000,100000]\n",
    "    plt.yticks(yi, y,fontweight = 'normal',fontsize = 20)\n",
    "\n",
    "    axes.yaxis.set_ticks_position('both')\n",
    "    axes.yaxis.set_tick_params(which='major', direction='in', length=10, width=1)\n",
    "    axes.yaxis.set_tick_params(which='minor', direction='in', length=5, width=1)\n",
    "\n",
    "    axes.xaxis.set_ticks_position('both')\n",
    "    axes.xaxis.set_tick_params(which='major', direction='in', length=10, width=1)\n",
    "    axes.xaxis.set_tick_params(which='minor', direction='in', length=5, width=1)\n",
    "\n",
    "    axes.xaxis.set_minor_locator(AutoMinorLocator(4))\n",
    "    handles, labels = axes.get_legend_handles_labels()\n",
    "\n",
    "    #Weird hack thing to get legend entries in correct order\n",
    "    handles = handles[::-1]\n",
    "    handles = handles+handles\n",
    "    handles = handles[1:12]\n",
    "\n",
    "    plt.legend(loc='upper right', ncol=1, prop={'size': 12},frameon=False,\n",
    "               handles=handles)\n",
    "\n",
    "    plt.ylabel(\"Events\",fontsize = 20,fontweight='normal')\n",
    "    axes.yaxis.set_label_coords(-0.07,0.93)\n",
    "    plt.xlabel(r\"BDT$_{VH}$ output\",fontsize = 20,fontweight='normal')\n",
    "    axes.xaxis.set_label_coords(0.89, -0.07)\n",
    "    an1 = axes.annotate(\"ATLAS Internal\", xy=(0.05, 0.91), xycoords=axes.transAxes,fontstyle = 'italic',fontsize = 16)\n",
    "\n",
    "    offset_from = OffsetFrom(an1, (0, -1.4))\n",
    "    an2 = axes.annotate(r'$\\sqrt{s}$' + \" = 13 TeV , 36.1 fb$^{-1}$\", xy=(0.05,0.91), xycoords=axes.transAxes, textcoords=offset_from, fontweight='normal',fontsize = 12)\n",
    "\n",
    "    offset_from = OffsetFrom(an2, (0, -1.4))\n",
    "    an3 = axes.annotate(\"1 lepton, \"+str(nJets)+\" jets, 2 b-tags\", xy=(0.05,0.91), xycoords=axes.transAxes, textcoords=offset_from,fontstyle = 'italic',fontsize = 12)\n",
    "\n",
    "    offset_from = OffsetFrom(an3, (0, -1.6))\n",
    "    an4 = axes.annotate(\"p$^V_T \\geq$ 150 GeV\", xy=(0.05,0.91), xycoords=axes.transAxes, textcoords=offset_from,fontstyle = 'italic',fontsize = 12)\n",
    "\n",
    "    plt.show(block=block)\n",
    "\n",
    "\n",
    "    return fig\n",
    "\n",
    "\n",
    "def setBinCategory(df,bins):\n",
    "\n",
    "    if len(bins)!=21:\n",
    "        print (\"ONLY SET FOR 20 BINS\")\n",
    "\n",
    "    df['bin_scaled'] = 999\n",
    "    bin_scaled_list = df['bin_scaled'].tolist()\n",
    "\n",
    "    step = 2/(len(bins)-1)  #step between midpoints\n",
    "    midpoint = -1 + step/2.0   #Initial midpoint\n",
    "    decision_value_list = df['decision_value'].tolist()\n",
    "\n",
    "    for j in range(len(bins)-1):\n",
    "        for i in range(len(decision_value_list)):\n",
    "            if ((decision_value_list[i] >= bins[j]) & (decision_value_list[i] < bins[j+1])):\n",
    "                bin_scaled_list[i] = midpoint\n",
    "        midpoint = midpoint + step\n",
    "\n",
    "    df['bin_scaled'] = bin_scaled_list\n",
    "\n",
    "    return df\n",
    "\n",
    "df = loadResultsFromFile('temp.pkl')\n",
    "\n",
    "h1 = final_decision_plot(df)"
   ]
  },
  {
   "cell_type": "code",
   "execution_count": 5,
   "metadata": {
    "collapsed": true
   },
   "outputs": [],
   "source": [
    "h1.set_size_inches(8.5*1.2,7*1.2)\n",
    "h1.savefig('plots/'+str(2)+'jet.png',dpi = 100)"
   ]
  },
  {
   "cell_type": "markdown",
   "metadata": {},
   "source": [
    "## Adding Continuous b-tagging Output "
   ]
  },
  {
   "cell_type": "code",
   "execution_count": 68,
   "metadata": {},
   "outputs": [
    {
     "name": "stdout",
     "output_type": "stream",
     "text": [
      "training...\n",
      "Using the Standard BDT: 2.965292536005919 ± 0.12603192168587402\n",
      "Writing...\n"
     ]
    }
   ],
   "source": [
    "for nJets in [2,3]:\n",
    "    \n",
    "    if nJets ==2:\n",
    "    \n",
    "        variables = [ 'dRBB','mBB',\n",
    "                     'pTB1', 'pTB2', 'MET',\n",
    "                     'dPhiVBB','dPhiLBmin','Mtop',\n",
    "                     'dYWH', 'mTW', 'pTV', 'MV1cB1_cont', 'MV1cB2_cont',]\n",
    "        n_estimators = 300\n",
    "        max_depth = 6\n",
    "        learning_rate = 0.05\n",
    "\n",
    "    else:\n",
    "         \n",
    "        variables = ['MV1cB1_cont', 'MV1cB2_cont', 'mBB', 'dRBB', \n",
    "                     'pTB1', 'pTB2', 'MET', 'dPhiVBB', 'dPhiLBmin',\n",
    "                'Mtop', 'dYWH', 'mTW', 'pTV', 'mBBJ', 'pTJ3', 'MV1cJ3_cont']\n",
    "        \n",
    "        n_estimators = 300\n",
    "        max_depth = 6\n",
    "        learning_rate = 0.05\n",
    "        \n",
    "\n",
    "    df_k1_2= pd.read_csv(_paths[str(nJets)+'jet-even'])\n",
    "    df_k2_2= pd.read_csv(_paths[str(nJets)+'jet-odd'])\n",
    "\n",
    "\n",
    "    xgb_even = XGBClassifier(n_estimators=n_estimators, \n",
    "                             max_depth=max_depth, \n",
    "                             learning_rate=learning_rate,\n",
    "                             subsample=subsample)\n",
    "    xgb_odd = XGBClassifier(n_estimators=n_estimators, \n",
    "                             max_depth=max_depth, \n",
    "                             learning_rate=learning_rate,\n",
    "                             subsample=subsample)\n",
    "\n",
    "\n",
    "\n",
    "    print(\"training...\")\n",
    "    xgb_even.fit(df_k1_2[variables], df_k1_2['Class'], sample_weight=df_k1_2['training_weight'])\n",
    "\n",
    "    xgb_odd.fit(df_k2_2[variables], df_k2_2['Class'], sample_weight=df_k2_2['training_weight'])\n",
    "\n",
    "\n",
    "    scores_even = xgb_odd.predict_proba(df_k1_2[variables])[:,1]\n",
    "    scores_odd = xgb_even.predict_proba(df_k2_2[variables])[:,1]\n",
    "\n",
    "    df_k1_2['decision_value'] = ((scores_even-0.5)*2)\n",
    "    df_k2_2['decision_value'] = ((scores_odd-0.5)*2)\n",
    "    df = pd.concat([df_k1_2,df_k2_2])\n",
    "\n",
    "    if nJets ==2:\n",
    "        result_2 = calc_sensitivity_with_error(df)\n",
    "\n",
    "    else:\n",
    "        result_3 = calc_sensitivity_with_error(df)\n",
    "        \n",
    "\n",
    "print(str(nJets) + \" Jet using Nominal Variables + Continuous b-tagging: \"+ str(result_2[0]) + \" ± \"+ str(result_2[1]))\n",
    "print(str(nJets) + \" Jet using Nominal Variables + Continuous b-tagging:  \"+ str(result_3[0]) + \" ± \"+ str(result_3[1]))\n",
    "\n",
    "\n",
    "result_combined = combined_sensitivty(result_2[0],result_3[0],result_2[1],result_3[1])\n",
    "\n",
    "print(\"Combined Sensitivity\", result_combined[0], \"±\",result_combined[1])\n"
   ]
  },
  {
   "cell_type": "markdown",
   "metadata": {},
   "source": [
    "# Adding Number of Track Jets"
   ]
  },
  {
   "cell_type": "code",
   "execution_count": 74,
   "metadata": {},
   "outputs": [
    {
     "name": "stdout",
     "output_type": "stream",
     "text": [
      "training...\n",
      "Using the Standard BDT: 2.9564169746658995 ± 0.11159783196232756\n",
      "Writing...\n"
     ]
    }
   ],
   "source": [
    "for nJets in [2,3]:\n",
    "    \n",
    "    if nJets == 2:\n",
    "    \n",
    "        variables = [ 'nTrackJetsOR','dRBB','mBB',\n",
    "                     'pTB1', 'pTB2', 'MET',\n",
    "                     'dPhiVBB','dPhiLBmin','Mtop',\n",
    "                     'dYWH', 'mTW', 'pTV', 'MV1cB1_cont', 'MV1cB2_cont',]\n",
    "        n_estimators = 290\n",
    "        max_depth = 5\n",
    "        learning_rate = 0.05\n",
    "\n",
    "    else:\n",
    "         \n",
    "        variables = ['nTrackJetsOR','MV1cB1_cont', 'MV1cB2_cont', 'mBB', 'dRBB', \n",
    "                     'pTB1', 'pTB2', 'MET', 'dPhiVBB', 'dPhiLBmin',\n",
    "                'Mtop', 'dYWH', 'mTW', 'pTV', 'mBBJ', 'pTJ3', 'MV1cJ3_cont']\n",
    "        \n",
    "        n_estimators = 300\n",
    "        max_depth = 6\n",
    "        learning_rate = 0.05\n",
    "        \n",
    "\n",
    "    df_k1_2= pd.read_csv(_paths[str(nJets)+'jet-even'])\n",
    "    df_k2_2= pd.read_csv(_paths[str(nJets)+'jet-odd'])\n",
    "\n",
    "\n",
    "    xgb_even = XGBClassifier(n_estimators=n_estimators, \n",
    "                             max_depth=max_depth, \n",
    "                             learning_rate=learning_rate,\n",
    "                             subsample=subsample)\n",
    "    xgb_odd = XGBClassifier(n_estimators=n_estimators, \n",
    "                             max_depth=max_depth, \n",
    "                             learning_rate=learning_rate,\n",
    "                             subsample=subsample)\n",
    "\n",
    "\n",
    "\n",
    "    print(\"training...\")\n",
    "    xgb_even.fit(df_k1_2[variables], df_k1_2['Class'], sample_weight=df_k1_2['training_weight'])\n",
    "\n",
    "    xgb_odd.fit(df_k2_2[variables], df_k2_2['Class'], sample_weight=df_k2_2['training_weight'])\n",
    "\n",
    "\n",
    "    scores_even = xgb_odd.predict_proba(df_k1_2[variables])[:,1]\n",
    "    scores_odd = xgb_even.predict_proba(df_k2_2[variables])[:,1]\n",
    "\n",
    "    df_k1_2['decision_value'] = ((scores_even-0.5)*2)\n",
    "    df_k2_2['decision_value'] = ((scores_odd-0.5)*2)\n",
    "    df = pd.concat([df_k1_2,df_k2_2])\n",
    "\n",
    "    if nJets ==2:\n",
    "        result_2 = calc_sensitivity_with_error(df)\n",
    "\n",
    "    else:\n",
    "        result_3 = calc_sensitivity_with_error(df)\n",
    "        \n",
    "\n",
    "print(str(nJets) + \" Jet using the Nominal Variables + Continuous b-tagging and N Track: \"+ str(result_2[0]) + \" ± \"+ str(result_2[1]))\n",
    "print(str(nJets) + \" Jet using the Nominal Variables + Continuous b-tagging and N Track: \"+ str(result_3[0]) + \" ± \"+ str(result_3[1]))\n",
    "\n",
    "\n",
    "result_combined = combined_sensitivty(result_2[0],result_3[0],result_2[1],result_3[1])\n",
    "\n",
    "print(\"Combined Sensitivity\", result_combined[0], \"±\",result_combined[1])\n"
   ]
  },
  {
   "cell_type": "markdown",
   "metadata": {},
   "source": [
    "## Variable Distribution Plots "
   ]
  },
  {
   "cell_type": "code",
   "execution_count": 22,
   "metadata": {},
   "outputs": [
    {
     "name": "stderr",
     "output_type": "stream",
     "text": [
      "/Users/ishankhurana/anaconda3/lib/python3.6/site-packages/matplotlib/text.py:2138: UserWarning: You have used the `textcoords` kwarg, but not the `xytext` kwarg.  This can lead to surprising results.\n",
      "  warnings.warn(\"You have used the `textcoords` kwarg, but not \"\n"
     ]
    },
    {
     "data": {
      "image/png": "[encoded data removed]",
      "text/plain": [
       "<matplotlib.figure.Figure at 0x1a18a35780>"
      ]
     },
     "metadata": {},
     "output_type": "display_data"
    }
   ],
   "source": [
    "def variable_plot(df,var):\n",
    "    \"\"\"Plots histogram decision score output of classifier\"\"\"\n",
    "\n",
    "    nJets = df['nJ'].tolist()[1]\n",
    "\n",
    "    var_sig = []\n",
    "    var_bkg = []\n",
    "\n",
    "    for i,j in df.iterrows():\n",
    "\n",
    "        if j['Class'] == 1.0:\n",
    "            var_sig.append(j[var]/1e3)\n",
    "        else:\n",
    "            var_bkg.append(j[var]/1e3)\n",
    "\n",
    "\n",
    "    # Initialise plot stuff\n",
    "    plt.ion()\n",
    "    plt.close(\"all\")\n",
    "    fig = plt.figure(figsize=(8.5,7))\n",
    "    plot_range = (0, 400)\n",
    "    plot_data = []\n",
    "    plot_weights = []\n",
    "    plot_colors = []\n",
    "    plt.rc('font', weight='bold')\n",
    "    plt.rc('xtick.major', size=5, pad=7)\n",
    "    plt.rc('xtick', labelsize=10)\n",
    "\n",
    "    plt.rcParams[\"font.weight\"] = \"bold\"\n",
    "    plt.rcParams[\"axes.labelweight\"] = \"bold\"\n",
    "    plt.rcParams[\"mathtext.default\"] = \"regular\"\n",
    "\n",
    "\n",
    "#     plt.plot([],[],color='#FF0000',label=r'VH $\\rightarrow$ Vbb x '+str(multiplier))\n",
    "    \n",
    "    \n",
    "    \n",
    "    plt.hist(var_sig,\n",
    "             range=plot_range,\n",
    "             rwidth=1,\n",
    "             label=\"Signal\",\n",
    "             edgecolor='none')\n",
    "    \n",
    "    plt.hist(var_bkg,\n",
    "             range=plot_range,\n",
    "             rwidth=1,\n",
    "             label=\"Background\",\n",
    "             edgecolor='none')\n",
    "\n",
    "\n",
    "\n",
    "    x1, x2, y1, y2 = plt.axis()\n",
    "    plt.yscale('log', nonposy='clip')\n",
    "    plt.axis((x1, x2, y1, y2 * 1.2))\n",
    "    axes = plt.gca()\n",
    "    axes.set_ylim([5,135000])\n",
    "    axes.set_xlim([0,400])\n",
    "#     x = [-1,-0.8,-0.6,-0.4,-0.2,0,0.2,0.4,0.6,0.8,1]\n",
    "    \n",
    "#     plt.xticks(x, x,fontweight = 'normal',fontsize = 20)\n",
    "    y = [r\"10\",r\"10$^{2}$\",r\"10$^{3}$\",r\"10$^{4}$\",r\"10$^{5}$\"]\n",
    "    yi = [10,100,1000,10000,100000]\n",
    "    plt.yticks(yi, y,fontweight = 'normal',fontsize = 20)\n",
    "\n",
    "    axes.yaxis.set_ticks_position('both')\n",
    "    axes.yaxis.set_tick_params(which='major', direction='in', length=10, width=1)\n",
    "    axes.yaxis.set_tick_params(which='minor', direction='in', length=5, width=1)\n",
    "\n",
    "    axes.xaxis.set_ticks_position('both')\n",
    "    axes.xaxis.set_tick_params(which='major', direction='in', length=10, width=1)\n",
    "    axes.xaxis.set_tick_params(which='minor', direction='in', length=5, width=1)\n",
    "\n",
    "    axes.xaxis.set_minor_locator(AutoMinorLocator(4))\n",
    "#     handles, labels = axes.get_legend_handles_labels()\n",
    "\n",
    "#     #Weird hack thing to get legend entries in correct order\n",
    "#     handles = handles[::-1]\n",
    "#     handles = handles+handles\n",
    "#     handles = handles[1:12]\n",
    "\n",
    "    plt.legend(loc='upper right', ncol=1, prop={'size': 12},frameon=False)\n",
    "\n",
    "    plt.ylabel(\"Events\",fontsize = 20,fontweight='normal')\n",
    "    axes.yaxis.set_label_coords(-0.07,0.93)\n",
    "    plt.xlabel(r\"m_{BB}\",fontsize = 20,fontweight='normal')\n",
    "    \n",
    "    axes.xaxis.set_label_coords(0.89, -0.07)\n",
    "    an1 = axes.annotate(\"ATLAS Internal\", xy=(0.05, 0.91), xycoords=axes.transAxes,fontstyle = 'italic',fontsize = 16)\n",
    "\n",
    "    offset_from = OffsetFrom(an1, (0, -1.4))\n",
    "    an2 = axes.annotate(r'$\\sqrt{s}$' + \" = 13 TeV , 36.1 fb$^{-1}$\", xy=(0.05,0.91), xycoords=axes.transAxes, textcoords=offset_from, fontweight='normal',fontsize = 12)\n",
    "\n",
    "    offset_from = OffsetFrom(an2, (0, -1.4))\n",
    "    an3 = axes.annotate(\"1 lepton, \"+str(nJets)+\" jets, 2 b-tags\", xy=(0.05,0.91), xycoords=axes.transAxes, textcoords=offset_from,fontstyle = 'italic',fontsize = 12)\n",
    "\n",
    "    offset_from = OffsetFrom(an3, (0, -1.6))\n",
    "    an4 = axes.annotate(\"p$^V_T \\geq$ 150 GeV\", xy=(0.05,0.91), xycoords=axes.transAxes, textcoords=offset_from,fontstyle = 'italic',fontsize = 12)\n",
    "\n",
    "#     plt.show(block=block)\n",
    "\n",
    "\n",
    "    return fig\n",
    "\n",
    "df_k1_2= pd.read_csv(_paths[str(nJets)+'jet-even'])\n",
    "df_k2_2= pd.read_csv(_paths[str(nJets)+'jet-odd'])\n",
    "\n",
    "df = pd.concat([df_k1_2,df_k2_2])\n",
    "h1 = variable_plot(df,'mBB')"
   ]
  },
  {
   "cell_type": "code",
   "execution_count": 12,
   "metadata": {},
   "outputs": [
    {
     "data": {
      "text/plain": [
       "(array([  3.77760000e+04,   7.57300000e+03,   1.50900000e+03,\n",
       "          3.85000000e+02,   1.51000000e+02,   5.30000000e+01,\n",
       "          1.90000000e+01,   1.50000000e+01,   2.00000000e+00,\n",
       "          2.00000000e+00]),\n",
       " array([   25068.421875 ,   267761.0796875,   510453.7375   ,\n",
       "          753146.3953125,   995839.053125 ,  1238531.7109375,\n",
       "         1481224.36875  ,  1723917.0265625,  1966609.684375 ,\n",
       "         2209302.3421875,  2451995.       ]),\n",
       " <a list of 10 Patch objects>)"
      ]
     },
     "execution_count": 12,
     "metadata": {},
     "output_type": "execute_result"
    },
    {
     "data": {
      "image/png": "[encoded data removed]",
      "text/plain": [
       "<matplotlib.figure.Figure at 0x1a2d8c57b8>"
      ]
     },
     "metadata": {},
     "output_type": "display_data"
    }
   ],
   "source": [
    "nJets = 2\n",
    "\n",
    "df_k1_2= pd.read_csv(_paths[str(nJets)+'jet-even'])\n",
    "df_k2_2= pd.read_csv(_paths[str(nJets)+'jet-odd'])\n",
    "\n",
    "df = pd.concat([df_k1_2,df_k2_2])\n",
    "\n",
    "var = 'mBB'\n",
    "\n",
    "var_sig = []\n",
    "var_bkg = []\n",
    "\n",
    "for i,j in df.iterrows():\n",
    "    \n",
    "    if j['Class'] == 1.0:\n",
    "        var_sig.append(j[var]/1)\n",
    "    else:\n",
    "        var_bkg.append(j[var])\n",
    "\n",
    "        \n",
    "plt.hist(var_sig,)\n",
    "plt.hist(var_bkg)"
   ]
  },
  {
   "cell_type": "markdown",
   "metadata": {
    "collapsed": true
   },
   "source": [
    "# Hyper Param Optimisation "
   ]
  },
  {
   "cell_type": "markdown",
   "metadata": {},
   "source": [
    "### Matplotlib Heat Maps "
   ]
  },
  {
   "cell_type": "code",
   "execution_count": 49,
   "metadata": {},
   "outputs": [
    {
     "name": "stdout",
     "output_type": "stream",
     "text": [
      "((190, 8), (1.7898865614068586, 0.056816453485564654))\n",
      "((200, 5), (2.9112535017508416, 0.13027169651005835))\n"
     ]
    },
    {
     "data": {
      "image/png": "[encoded data removed]",
      "text/plain": [
       "<matplotlib.figure.Figure at 0x10f8078d0>"
      ]
     },
     "metadata": {},
     "output_type": "display_data"
    }
   ],
   "source": [
    "from pickle_functions import *\n",
    "import matplotlib.pyplot as plt\n",
    "import numpy as np\n",
    "import seaborn as sns\n",
    "\n",
    "\n",
    "# opt_3 = loadResultsFromFile('results/3jet_all_optimisation.pkl')\n",
    "# opt_2 = loadResultsFromFile('results/2jet_all_optimisation.pkl')\n",
    "\n",
    "\n",
    "# opt_3 = loadResultsFromFile('results/3jet_bcont_optimisation.pkl')\n",
    "# opt_2 = loadResultsFromFile('results/2jet_bcont_optimisation.pkl') \n",
    "\n",
    "opt_3 = loadResultsFromFile('results/binned_b_new/3jet_binned_b_optimisation.pkl')\n",
    "opt_2 = loadResultsFromFile('results/binned_b_new/2jet_binned_b_optimisation.pkl') \n",
    "\n",
    "\n",
    "\n",
    "opt_3 = loadResultsFromFile('results/3jet_binned_b_optimisation.pkl')\n",
    "opt_2 = loadResultsFromFile('results/2jet_binned_b_optimisation.pkl') \n",
    "\n",
    "\n",
    "\n",
    "print(max(opt_3.items(), key=operator.itemgetter(1)))\n",
    "print(max(opt_2.items(), key=operator.itemgetter(1)))\n",
    "\n",
    "nJets = 3\n",
    "\n",
    "\n",
    "rows = []\n",
    "\n",
    "for depth in [4,5,6,7,8]:\n",
    "    if nJets == 2:\n",
    "        r = [opt_2[(n_est,depth)][0] for n_est in np.arange(100,360,10)]\n",
    "    if nJets == 3:\n",
    "        r = [opt_3[(n_est,depth)][0] for n_est in np.arange(100,360,10)]\n",
    "\n",
    "    rows.append(r)\n",
    "    \n",
    "hmap = numpy.matrix(rows)\n",
    "hmap = np.transpose(hmap)\n",
    "df = pd.DataFrame(hmap)\n",
    "df = df.rename(index=str, columns={0: \"4\", 1: \"5\",2: \"6\", 3: \"7\",4: \"8\"})\n",
    "df = df.set_index(np.arange(100,360,10))\n",
    "\n",
    "fig, ax = plt.subplots()\n",
    "fig.set_size_inches(20,8)\n",
    "df = df.T\n",
    "if nJets == 2:\n",
    "    sns.heatmap(df,ax = ax, cmap=\"Oranges\",cbar_kws={'label': 'Sensitivity'})\n",
    "else:\n",
    "    sns.heatmap(df,ax = ax, cmap=\"Blues\",cbar_kws={'label': 'Sensitivity'})\n",
    "ax.invert_yaxis()\n",
    "# ax.set_xticks(np.arange(100,360,10),np.arange(100,360,10))\n",
    "ax.set(xlabel='Tree Depth', ylabel='Number of Estimators')\n",
    "\n",
    "# plt.savefig('heat-maps/'+str(nJets)+'jet_binned_heatmap_sb.png', bbox_inches='tight',dpi = 100)\n",
    "plt.show()"
   ]
  },
  {
   "cell_type": "code",
   "execution_count": 53,
   "metadata": {},
   "outputs": [
    {
     "name": "stdout",
     "output_type": "stream",
     "text": [
      "(180, 8) (1.786652261739826, 0.057882091685968064)\n",
      "(350, 5) (1.7873776591589794, 0.05796892482219337)\n",
      "(330, 5) (1.7848763346461352, 0.05803808081206076)\n",
      "(170, 8) (1.7890788551668175, 0.05688505601673356)\n",
      "(190, 8) (1.7898865614068586, 0.056816453485564654)\n"
     ]
    }
   ],
   "source": [
    "opt_3 = loadResultsFromFile('results/3jet_binned_b_optimisation.pkl')\n",
    "\n",
    "for key in opt_3:\n",
    "    if opt_3[key][0]> 1.78:\n",
    "        print (key,opt_3[key])"
   ]
  },
  {
   "cell_type": "markdown",
   "metadata": {},
   "source": [
    "## Feature Importance Plots"
   ]
  },
  {
   "cell_type": "code",
   "execution_count": 12,
   "metadata": {},
   "outputs": [
    {
     "ename": "NameError",
     "evalue": "name '_paths' is not defined",
     "output_type": "error",
     "traceback": [
      "\u001b[0;31m---------------------------------------------------------------------------\u001b[0m",
      "\u001b[0;31mNameError\u001b[0m                                 Traceback (most recent call last)",
      "\u001b[0;32m<ipython-input-12-1e9c4f1fb38f>\u001b[0m in \u001b[0;36m<module>\u001b[0;34m()\u001b[0m\n\u001b[1;32m     19\u001b[0m \u001b[0mvariables\u001b[0m \u001b[0;34m=\u001b[0m \u001b[0mdeepcopy\u001b[0m\u001b[0;34m(\u001b[0m\u001b[0mvar\u001b[0m\u001b[0;34m[\u001b[0m\u001b[0mstr\u001b[0m\u001b[0;34m(\u001b[0m\u001b[0mnJets\u001b[0m\u001b[0;34m)\u001b[0m\u001b[0;34m]\u001b[0m\u001b[0;34m)\u001b[0m\u001b[0;34m\u001b[0m\u001b[0m\n\u001b[1;32m     20\u001b[0m \u001b[0;34m\u001b[0m\u001b[0m\n\u001b[0;32m---> 21\u001b[0;31m \u001b[0mdf_k1_2\u001b[0m\u001b[0;34m=\u001b[0m \u001b[0mpd\u001b[0m\u001b[0;34m.\u001b[0m\u001b[0mread_csv\u001b[0m\u001b[0;34m(\u001b[0m\u001b[0m_paths\u001b[0m\u001b[0;34m[\u001b[0m\u001b[0mstr\u001b[0m\u001b[0;34m(\u001b[0m\u001b[0mnJets\u001b[0m\u001b[0;34m)\u001b[0m\u001b[0;34m+\u001b[0m\u001b[0;34m'jet-even'\u001b[0m\u001b[0;34m]\u001b[0m\u001b[0;34m)\u001b[0m\u001b[0;34m\u001b[0m\u001b[0m\n\u001b[0m\u001b[1;32m     22\u001b[0m \u001b[0mdf_k2_2\u001b[0m\u001b[0;34m=\u001b[0m \u001b[0mpd\u001b[0m\u001b[0;34m.\u001b[0m\u001b[0mread_csv\u001b[0m\u001b[0;34m(\u001b[0m\u001b[0m_paths\u001b[0m\u001b[0;34m[\u001b[0m\u001b[0mstr\u001b[0m\u001b[0;34m(\u001b[0m\u001b[0mnJets\u001b[0m\u001b[0;34m)\u001b[0m\u001b[0;34m+\u001b[0m\u001b[0;34m'jet-odd'\u001b[0m\u001b[0;34m]\u001b[0m\u001b[0;34m)\u001b[0m\u001b[0;34m\u001b[0m\u001b[0m\n\u001b[1;32m     23\u001b[0m \u001b[0;34m\u001b[0m\u001b[0m\n",
      "\u001b[0;31mNameError\u001b[0m: name '_paths' is not defined"
     ]
    }
   ],
   "source": [
    "n_estimators = 270\n",
    "max_depth = 6\n",
    "learning_rate = 0.05\n",
    "subsample = 0.5\n",
    "\n",
    "nJets = 3\n",
    "\n",
    "variables_2 = [ 'nTrackJetsOR','dRBB','mBB',\n",
    "             'pTB1', 'pTB2', 'MET',\n",
    "             'dPhiVBB','dPhiLBmin','Mtop',\n",
    "             'dYWH', 'mTW', 'pTV', 'MV1cB1_cont', 'MV1cB2_cont',]\n",
    "\n",
    "variables_3 = [ 'nTrackJetsOR','MV1cB1_cont', 'MV1cB2_cont','MV1cJ3_cont','mBB', 'dRBB', \n",
    "             'pTB1', 'pTB2', 'MET', 'dPhiVBB', 'dPhiLBmin',\n",
    "        'Mtop', 'dYWH', 'mTW', 'pTV', 'mBBJ', 'pTJ3',]\n",
    "\n",
    "var = {'2':variables_2,'3':variables_3}\n",
    "\n",
    "variables = deepcopy(var[str(nJets)])\n",
    "\n",
    "df_k1_2= pd.read_csv(_paths[str(nJets)+'jet-even'])\n",
    "df_k2_2= pd.read_csv(_paths[str(nJets)+'jet-odd'])\n",
    "\n",
    "df = pd.concat(deepcopy([df_k1_2,df_k2_2]))\n",
    "\n",
    "\n",
    "xgb = XGBClassifier(n_estimators=n_estimators, max_depth=max_depth, learning_rate=learning_rate, subsample=subsample)\n",
    "xgb.fit(df[variables], df['Class'], sample_weight=df['training_weight'])\n",
    "\n",
    "\n",
    "fig, ax = plt.subplots()\n",
    "\n",
    "# plot_importance(xgb,ax = ax,normalise = True,title = None,xlabel = \"Importance\")\n",
    "# ax.xaxis('Importance')\n",
    "# ax.yaxis('Feature ')\n",
    "def normalise_importance(importance_dict):\n",
    "\n",
    "    \"\"\"\n",
    "    Normalises the importance between 0 and 1\n",
    "    \"\"\"\n",
    "\n",
    "    total = float(sum(importance_dict.values()))\n",
    "    for key in importance_dict:\n",
    "        importance_dict[key] = round(importance_dict[key]/total,2)\n",
    "    return importance_dict\n",
    "\n",
    "\n",
    "importance = xgb.get_booster().get_score( importance_type='weight')\n",
    "importance = normalise_importance(importance)\n",
    "\n",
    "tuples = [(k, importance[k]) for k in importance]\n",
    "tuples = sorted(tuples, key=lambda x: x[1])\n",
    "labels, values = zip(*tuples)\n",
    "           \n",
    "ylocs = np.arange(len(values))\n",
    "\n",
    "print(labels)\n",
    "for yloc,value,label in zip(ylocs,values,labels):\n",
    "    if label in ['nTrackJetsOR','MV1cB1_cont', 'MV1cB2_cont','MV1cJ3_cont']:\n",
    "        c = '#FFA500'\n",
    "    else:\n",
    "        c = '#003699'\n",
    "    \n",
    "    ax.barh(yloc, value, color = c,align='center', height=0.2)\n",
    "\n",
    "    \n",
    "\n",
    "plt.yticks(ylocs,fontsize = 16)\n",
    "ax.set_yticklabels(labels)\n",
    "\n",
    "# for x, y in zip(values, ylocs):\n",
    "#     ax.text(x + 1, y, x, va='center')\n",
    "\n",
    "xlim = (0, max(values) * 1.1)\n",
    "ax.set_xlim(xlim)\n",
    "ylim = (-1, len(values))\n",
    "ax.set_xlabel(\"Importance\",fontsize = 16)\n",
    "ax.set_ylabel(\"Feature\",fontsize = 16,)\n",
    "\n",
    "\n",
    "fig.set_size_inches(16,12)\n"
   ]
  },
  {
   "cell_type": "code",
   "execution_count": 5,
   "metadata": {},
   "outputs": [
    {
     "name": "stdout",
     "output_type": "stream",
     "text": [
      "((290, 7), (1.858535652611022, 0.06404829646693447))\n",
      "((170, 8), (3.128437111327301, 0.15861078505686518))\n"
     ]
    }
   ],
   "source": [
    "\n",
    "\n",
    "opt_3 = loadResultsFromFile('results/3jet_all_optimisation.pkl')\n",
    "opt_2 = loadResultsFromFile('results/2jet_all_optimisation.pkl')\n",
    "\n",
    "\n",
    "opt_3 = loadResultsFromFile('results/3jet_bcont_optimisation.pkl')\n",
    "opt_2 = loadResultsFromFile('results/2jet_bcont_optimisation.pkl') \n",
    "\n",
    "# opt_3 = loadResultsFromFile('results/3jet_binned_b_optimisation.pkl')\n",
    "# opt_2 = loadResultsFromFile('results/2jet_binned_b_optimisation.pkl') \n",
    "\n",
    "print(max(opt_3.items(), key=operator.itemgetter(1)))\n",
    "print(max(opt_2.items(), key=operator.itemgetter(1)))\n",
    "\n",
    "rows = []\n",
    "\n",
    "for depth in [4,5,6,7,8]:\n",
    "    \n",
    "    r = [opt_2[(n_est,depth)][0] for n_est in np.arange(100,360,10)]\n",
    "    \n",
    "    rows.append(r)"
   ]
  },
  {
   "cell_type": "code",
   "execution_count": null,
   "metadata": {
    "collapsed": true
   },
   "outputs": [],
   "source": []
  },
  {
   "cell_type": "code",
   "execution_count": 66,
   "metadata": {},
   "outputs": [
    {
     "data": {
      "text/html": [
       "<iframe id=\"igraph\" scrolling=\"no\" style=\"border:none;\" seamless=\"seamless\" src=\"https://plot.ly/~ishan.khurana95/72.embed\" height=\"525px\" width=\"100%\"></iframe>"
      ],
      "text/plain": [
       "<plotly.tools.PlotlyDisplay object>"
      ]
     },
     "execution_count": 66,
     "metadata": {},
     "output_type": "execute_result"
    }
   ],
   "source": [
    "import sys\n",
    "sys.path.append(\"../\")\n",
    "%matplotlib inline \n",
    "import matplotlib.pyplot as plt\n",
    "# sb.set_style(\"whitegrid\")\n",
    "import plotly.plotly as py\n",
    "import plotly.graph_objs as go\n",
    "\n",
    "\n",
    "# print(param_data_byLR[lr])\n",
    "data_for_map = []\n",
    "# rows = [[val[3] for val in param_data_byLR[lr] if val[2] == i+1] for i in range(9)]\n",
    "# n_est = list(np.arange(20,360,20))\n",
    "n_est= ['\"'+str(i)+'\"' for i in list(np.arange(100,360,10))]\n",
    "depths = [\"4\",\"5\",\"6\",\"7\",\"8\"]\n",
    "\n",
    "\n",
    "trace = go.Heatmap(z=rows,x = n_est, y=depths)\n",
    "\n",
    "data=[trace]\n",
    "layout = go.Layout( xaxis=dict(\n",
    "        title='Number of Trees',\n",
    "        autotick=False,\n",
    "        ticks='centre',\n",
    "        tick0=100,\n",
    "        dtick=10,\n",
    "        ticklen=5,\n",
    "        tickwidth=1,\n",
    "        tickcolor='#000'),\n",
    "        yaxis=dict(\n",
    "        title = 'Maximum Tree Depth',)\n",
    "                  \n",
    "        )\n",
    "    \n",
    "fig = go.Figure(data = data,layout = layout)\n",
    "py.iplot(fig, filename='labelled-heatmap')\n",
    "\n",
    "# py.image.save_as(fig, filename='heat-maps/2jet_bcont_variables.png')"
   ]
  },
  {
   "cell_type": "code",
   "execution_count": 67,
   "metadata": {},
   "outputs": [
    {
     "data": {
      "text/html": [
       "<iframe id=\"igraph\" scrolling=\"no\" style=\"border:none;\" seamless=\"seamless\" src=\"https://plot.ly/~ishan.khurana95/72.embed\" height=\"525px\" width=\"100%\"></iframe>"
      ],
      "text/plain": [
       "<plotly.tools.PlotlyDisplay object>"
      ]
     },
     "execution_count": 67,
     "metadata": {},
     "output_type": "execute_result"
    }
   ],
   "source": [
    "import sys\n",
    "sys.path.append(\"../\")\n",
    "%matplotlib inline \n",
    "import matplotlib.pyplot as plt\n",
    "# sb.set_style(\"whitegrid\")\n",
    "import plotly.plotly as py\n",
    "import plotly.graph_objs as go\n",
    "opt_2 = loadResultsFromFile('results/2jet_all_optimisation.pkl')\n",
    "rows = []\n",
    "\n",
    "for depth in [4,5,6,7,8]:\n",
    "    \n",
    "    r = [opt_2[(n_est,depth)][0] for n_est in np.arange(100,360,10)]\n",
    "    \n",
    "    rows.append(r)\n",
    "\n",
    "\n",
    "# print(param_data_byLR[lr])\n",
    "data_for_map = []\n",
    "# rows = [[val[3] for val in param_data_byLR[lr] if val[2] == i+1] for i in range(9)]\n",
    "# n_est = list(np.arange(20,360,20))\n",
    "n_est= ['\"'+str(i)+'\"' for i in list(np.arange(100,360,10))]\n",
    "depths = [\"4\",\"5\",\"6\",\"7\",\"8\"]\n",
    "\n",
    "\n",
    "trace = go.Heatmap(z=rows,x = n_est, y=depths)\n",
    "\n",
    "data=[trace]\n",
    "layout = go.Layout( xaxis=dict(\n",
    "        title='Number of Trees',\n",
    "        autotick=False,\n",
    "        ticks='centre',\n",
    "        tick0=100,\n",
    "        dtick=10,\n",
    "        ticklen=5,\n",
    "        tickwidth=1,\n",
    "        tickcolor='#000'),\n",
    "        yaxis=dict(\n",
    "        title = 'Maximum Tree Depth',)\n",
    "                  \n",
    "        )\n",
    "    \n",
    "fig = go.Figure(data = data,layout = layout)\n",
    "py.iplot(fig, filename='labelled-heatmap')\n",
    "\n",
    "# py.image.save_as(fig, filename='heat-maps/2jet_bcont_variables.png')"
   ]
  },
  {
   "cell_type": "markdown",
   "metadata": {
    "collapsed": true
   },
   "source": [
    "# Feature Importance Plots"
   ]
  },
  {
   "cell_type": "markdown",
   "metadata": {
    "collapsed": true
   },
   "source": [
    "## Matplotlib Heatmaps"
   ]
  },
  {
   "cell_type": "code",
   "execution_count": 60,
   "metadata": {},
   "outputs": [
    {
     "name": "stdout",
     "output_type": "stream",
     "text": [
      "((290, 7), (1.858535652611022, 0.06404829646693447))\n",
      "((170, 8), (3.128437111327301, 0.15861078505686518))\n"
     ]
    }
   ],
   "source": [
    "print(max(opt_3.items(), key=operator.itemgetter(1)))\n",
    "print(max(opt_2.items(), key=operator.itemgetter(1)))\n"
   ]
  },
  {
   "cell_type": "code",
   "execution_count": 51,
   "metadata": {},
   "outputs": [
    {
     "name": "stdout",
     "output_type": "stream",
     "text": [
      "3.41320963318\n",
      "0.080886186134\n"
     ]
    }
   ],
   "source": [
    "\n",
    "def error(x,y,err_x,err_y):\n",
    "    \n",
    "    return np.sqrt(((x*err_x)/np.sqrt(x**2 + y**2))**2 + ((y*err_y)/np.sqrt(x**2 + y**2))**2)\n",
    "\n",
    "import numpy as np\n",
    "\n",
    "two_jet = 2.90\n",
    "three_jet = 1.80\n",
    "\n",
    "two_error = 0.09\n",
    "three_error = 0.05\n",
    "\n",
    "print(np.sqrt(two_jet**2 + three_jet**2))\n",
    "print(error(two_jet,three_jet,two_error,three_error))\n",
    "# df = pd.read_csv(\"results/2bcont.csv\", index_col=0)\n"
   ]
  },
  {
   "cell_type": "code",
   "execution_count": 56,
   "metadata": {},
   "outputs": [
    {
     "data": {
      "text/plain": [
       "0.03550295857988169"
      ]
     },
     "execution_count": 56,
     "metadata": {},
     "output_type": "execute_result"
    }
   ],
   "source": [
    "(1.75-1.69)/1.69"
   ]
  },
  {
   "cell_type": "code",
   "execution_count": 57,
   "metadata": {},
   "outputs": [
    {
     "data": {
      "text/plain": [
       "0.1481481481481481"
      ]
     },
     "execution_count": 57,
     "metadata": {},
     "output_type": "execute_result"
    }
   ],
   "source": [
    "(3.41- 2.97)/2.97"
   ]
  },
  {
   "cell_type": "code",
   "execution_count": 39,
   "metadata": {
    "collapsed": true
   },
   "outputs": [],
   "source": [
    "\n",
    "df_k1_2= pd.read_csv(_paths[str(nJets)+'jet-even'])\n",
    "df_k2_2= pd.read_csv(_paths[str(nJets)+'jet-odd'])"
   ]
  },
  {
   "cell_type": "code",
   "execution_count": 40,
   "metadata": {},
   "outputs": [
    {
     "data": {
      "text/plain": [
       "{0, 1, 2, 3}"
      ]
     },
     "execution_count": 40,
     "metadata": {},
     "output_type": "execute_result"
    }
   ],
   "source": [
    "set(df_k1_2['nTrackJetsOR'])"
   ]
  },
  {
   "cell_type": "code",
   "execution_count": 20,
   "metadata": {},
   "outputs": [
    {
     "data": {
      "image/png": "[encoded data removed]",
      "text/plain": [
       "<matplotlib.figure.Figure at 0x1a108078d0>"
      ]
     },
     "metadata": {},
     "output_type": "display_data"
    }
   ],
   "source": [
    "n_estimators = 200\n",
    "max_depth = 5\n",
    "learning_rate = 0.05\n",
    "subsample = 0.5\n",
    "\n",
    "nJets = 2\n",
    "\n",
    "variables_2 = ['dRBB','mBB',\n",
    "             'pTB1', 'pTB2', 'MET',\n",
    "             'dPhiVBB','dPhiLBmin','Mtop',\n",
    "             'dYWH', 'mTW', 'pTV', 'MV1cB1', 'MV1cB2',]\n",
    "\n",
    "variables_3 = [ 'nTrackJetsOR','MV1cB1_cont', 'MV1cB2_cont','MV1cJ3_cont','mBB', 'dRBB', \n",
    "             'pTB1', 'pTB2', 'MET', 'dPhiVBB', 'dPhiLBmin',\n",
    "        'Mtop', 'dYWH', 'mTW', 'pTV', 'mBBJ', 'pTJ3',]\n",
    "\n",
    "var = {'2':variables_2,'3':variables_3}\n",
    "\n",
    "variables = deepcopy(var[str(nJets)])\n",
    "\n",
    "df_k1_2= pd.read_csv(_paths[str(nJets)+'jet-even'])\n",
    "df_k2_2= pd.read_csv(_paths[str(nJets)+'jet-odd'])\n",
    "\n",
    "df = pd.concat(deepcopy([df_k1_2,df_k2_2]))\n",
    "\n",
    "\n",
    "xgb = XGBClassifier(n_estimators=n_estimators, max_depth=max_depth, learning_rate=learning_rate, subsample=subsample)\n",
    "xgb.fit(df[variables], df['Class'], sample_weight=df['training_weight'])\n",
    "\n",
    "\n"
   ]
  },
  {
   "cell_type": "code",
   "execution_count": 4,
   "metadata": {},
   "outputs": [
    {
     "ename": "NameError",
     "evalue": "name '_NODEPAT' is not defined",
     "output_type": "error",
     "traceback": [
      "\u001b[0;31m---------------------------------------------------------------------------\u001b[0m",
      "\u001b[0;31mNameError\u001b[0m                                 Traceback (most recent call last)",
      "\u001b[0;32m<ipython-input-4-d004b4d79d16>\u001b[0m in \u001b[0;36m<module>\u001b[0;34m()\u001b[0m\n\u001b[1;32m      3\u001b[0m \u001b[0mxgb\u001b[0m \u001b[0;34m=\u001b[0m \u001b[0mloadResultsFromFile\u001b[0m\u001b[0;34m(\u001b[0m\u001b[0;34m\"temp_tree.pkl\"\u001b[0m\u001b[0;34m)\u001b[0m\u001b[0;34m\u001b[0m\u001b[0m\n\u001b[1;32m      4\u001b[0m \u001b[0;32mfrom\u001b[0m \u001b[0mxgboost\u001b[0m \u001b[0;32mimport\u001b[0m  \u001b[0mto_graphviz\u001b[0m\u001b[0;34m\u001b[0m\u001b[0m\n\u001b[0;32m----> 5\u001b[0;31m \u001b[0mto_graphviz\u001b[0m\u001b[0;34m(\u001b[0m\u001b[0mxgb\u001b[0m\u001b[0;34m)\u001b[0m\u001b[0;34m\u001b[0m\u001b[0m\n\u001b[0m",
      "\u001b[0;32m/Users/ishankhurana/anaconda3/lib/python3.6/site-packages/xgboost/plotting.py\u001b[0m in \u001b[0;36mto_graphviz\u001b[0;34m(booster, fmap, num_trees, rankdir, yes_color, no_color, **kwargs)\u001b[0m\n\u001b[1;32m    215\u001b[0m     \u001b[0;32mfor\u001b[0m \u001b[0mi\u001b[0m\u001b[0;34m,\u001b[0m \u001b[0mtext\u001b[0m \u001b[0;32min\u001b[0m \u001b[0menumerate\u001b[0m\u001b[0;34m(\u001b[0m\u001b[0mtree\u001b[0m\u001b[0;34m)\u001b[0m\u001b[0;34m:\u001b[0m\u001b[0;34m\u001b[0m\u001b[0m\n\u001b[1;32m    216\u001b[0m         \u001b[0;32mif\u001b[0m \u001b[0mtext\u001b[0m\u001b[0;34m[\u001b[0m\u001b[0;36m0\u001b[0m\u001b[0;34m]\u001b[0m\u001b[0;34m.\u001b[0m\u001b[0misdigit\u001b[0m\u001b[0;34m(\u001b[0m\u001b[0;34m)\u001b[0m\u001b[0;34m:\u001b[0m\u001b[0;34m\u001b[0m\u001b[0m\n\u001b[0;32m--> 217\u001b[0;31m             \u001b[0mnode\u001b[0m \u001b[0;34m=\u001b[0m \u001b[0m_parse_node\u001b[0m\u001b[0;34m(\u001b[0m\u001b[0mgraph\u001b[0m\u001b[0;34m,\u001b[0m \u001b[0mtext\u001b[0m\u001b[0;34m)\u001b[0m\u001b[0;34m\u001b[0m\u001b[0m\n\u001b[0m\u001b[1;32m    218\u001b[0m         \u001b[0;32melse\u001b[0m\u001b[0;34m:\u001b[0m\u001b[0;34m\u001b[0m\u001b[0m\n\u001b[1;32m    219\u001b[0m             \u001b[0;32mif\u001b[0m \u001b[0mi\u001b[0m \u001b[0;34m==\u001b[0m \u001b[0;36m0\u001b[0m\u001b[0;34m:\u001b[0m\u001b[0;34m\u001b[0m\u001b[0m\n",
      "\u001b[0;32m/Users/ishankhurana/anaconda3/lib/python3.6/site-packages/xgboost/plotting.py\u001b[0m in \u001b[0;36m_parse_node\u001b[0;34m(graph, text)\u001b[0m\n\u001b[1;32m    129\u001b[0m \u001b[0;32mdef\u001b[0m \u001b[0m_parse_node\u001b[0m\u001b[0;34m(\u001b[0m\u001b[0mgraph\u001b[0m\u001b[0;34m,\u001b[0m \u001b[0mtext\u001b[0m\u001b[0;34m)\u001b[0m\u001b[0;34m:\u001b[0m\u001b[0;34m\u001b[0m\u001b[0m\n\u001b[1;32m    130\u001b[0m     \u001b[0;34m\"\"\"parse dumped node\"\"\"\u001b[0m\u001b[0;34m\u001b[0m\u001b[0m\n\u001b[0;32m--> 131\u001b[0;31m     \u001b[0mmatch\u001b[0m \u001b[0;34m=\u001b[0m \u001b[0m_NODEPAT\u001b[0m\u001b[0;34m.\u001b[0m\u001b[0mmatch\u001b[0m\u001b[0;34m(\u001b[0m\u001b[0mtext\u001b[0m\u001b[0;34m)\u001b[0m\u001b[0;34m\u001b[0m\u001b[0m\n\u001b[0m\u001b[1;32m    132\u001b[0m     \u001b[0;32mif\u001b[0m \u001b[0mmatch\u001b[0m \u001b[0;32mis\u001b[0m \u001b[0;32mnot\u001b[0m \u001b[0;32mNone\u001b[0m\u001b[0;34m:\u001b[0m\u001b[0;34m\u001b[0m\u001b[0m\n\u001b[1;32m    133\u001b[0m         \u001b[0mnode\u001b[0m \u001b[0;34m=\u001b[0m \u001b[0mmatch\u001b[0m\u001b[0;34m.\u001b[0m\u001b[0mgroup\u001b[0m\u001b[0;34m(\u001b[0m\u001b[0;36m1\u001b[0m\u001b[0;34m)\u001b[0m\u001b[0;34m\u001b[0m\u001b[0m\n",
      "\u001b[0;31mNameError\u001b[0m: name '_NODEPAT' is not defined"
     ]
    },
    {
     "data": {
      "image/png": "[encoded data removed]",
      "text/plain": [
       "<Figure size 432x288 with 1 Axes>"
      ]
     },
     "metadata": {},
     "output_type": "display_data"
    }
   ],
   "source": [
    "fig, ax = plt.subplots()\n",
    "\n",
    "xgb = loadResultsFromFile(\"temp_tree.pkl\")\n",
    "from xgboost import  to_graphviz\n",
    "to_graphviz(xgb)"
   ]
  },
  {
   "cell_type": "code",
   "execution_count": 7,
   "metadata": {
    "collapsed": true
   },
   "outputs": [],
   "source": [
    "sys.path.append(\"/Users/ishankhurana/anaconda3\")\n",
    "import graphviz"
   ]
  },
  {
   "cell_type": "code",
   "execution_count": 39,
   "metadata": {
    "collapsed": true
   },
   "outputs": [],
   "source": [
    "nJets = 2\n",
    "_paths = {'2jet-even':'../CSV/data-v2/VHbb_data_2jet_even.csv',\n",
    "          '2jet-odd':'../CSV/data-v2/VHbb_data_2jet_odd.csv',\n",
    "        '3jet-even':'../CSV/data-v2/VHbb_data_3jet_even.csv',\n",
    "          '3jet-odd':'../CSV/data-v2/VHbb_data_3jet_odd.csv'}\n",
    "\n",
    "\n",
    "df_k1_2= pd.read_csv(_paths[str(2)+'jet-even'])\n",
    "df_k2_2= pd.read_csv(_paths[str(2)+'jet-odd'])\n",
    "df_k1_3= pd.read_csv(_paths[str(3)+'jet-even'])\n",
    "df_k2_3= pd.read_csv(_paths[str(3)+'jet-odd'])\n",
    "# print(set(df_k1_2['']))\n"
   ]
  },
  {
   "cell_type": "code",
   "execution_count": 40,
   "metadata": {},
   "outputs": [
    {
     "data": {
      "text/plain": [
       "{'Class',\n",
       " 'EventNumber',\n",
       " 'EventWeight',\n",
       " 'MET',\n",
       " 'MV1cB1_cont',\n",
       " 'MV1cB2_cont',\n",
       " 'MV1cJ3_cont',\n",
       " 'Mtop',\n",
       " 'Unnamed: 0',\n",
       " 'category',\n",
       " 'dPhiLBmin',\n",
       " 'dPhiVBB',\n",
       " 'dRBB',\n",
       " 'dYWH',\n",
       " 'mBB',\n",
       " 'mBBJ',\n",
       " 'mTW',\n",
       " 'nJ',\n",
       " 'nTags',\n",
       " 'nTrackJetsOR',\n",
       " 'pTB1',\n",
       " 'pTB2',\n",
       " 'pTJ3',\n",
       " 'pTV',\n",
       " 'post_fit_weight',\n",
       " 'sample',\n",
       " 'training_weight'}"
      ]
     },
     "execution_count": 40,
     "metadata": {},
     "output_type": "execute_result"
    }
   ],
   "source": [
    "df_k1_2_ttbar = df_k1_2.loc[df_k1_2['Class'] == 0]\n",
    "df_k2_2_ttbar = df_k2_2.loc[df_k2_2['Class'] == 0]\n",
    "\n",
    "df_k1_3_ttbar = df_k1_3.loc[df_k1_3['Class'] == 0]\n",
    "df_k2_3_ttbar = df_k2_3.loc[df_k2_3['Class'] == 0]\n",
    "\n",
    "set(df_k1_2_ttbar.columns.values)"
   ]
  },
  {
   "cell_type": "code",
   "execution_count": 42,
   "metadata": {
    "collapsed": true
   },
   "outputs": [],
   "source": [
    "_paths = {'2jet-even':'../CSV/data-v7/VHbb_data_2jet_even.csv',\n",
    "          '2jet-odd':'../CSV/data-v7/VHbb_data_2jet_odd.csv',\n",
    "        '3jet-even':'../CSV/data-v7/VHbb_data_3jet_even.csv',\n",
    "          '3jet-odd':'../CSV/data-v7/VHbb_data_3jet_odd.csv'}\n",
    "\n",
    "\n",
    "df_k1_2= pd.read_csv(_paths[str(2)+'jet-even'])\n",
    "df_k2_2= pd.read_csv(_paths[str(2)+'jet-odd'])\n",
    "# df_k1_3= pd.read_csv(_paths[str(3)+'jet-even'])\n",
    "# df_k2_3= pd.read_csv(_paths[str(3)+'jet-odd'])\n",
    "\n"
   ]
  },
  {
   "cell_type": "code",
   "execution_count": 43,
   "metadata": {},
   "outputs": [
    {
     "data": {
      "text/plain": [
       "{'WW',\n",
       " 'WZ',\n",
       " 'Wbb',\n",
       " 'Wbc',\n",
       " 'Wbl',\n",
       " 'Wcc',\n",
       " 'Wcl',\n",
       " 'Wl',\n",
       " 'ZZ',\n",
       " 'Zbb',\n",
       " 'Zbc',\n",
       " 'Zbl',\n",
       " 'Zcc',\n",
       " 'Zcl',\n",
       " 'Zl',\n",
       " 'ggZllH125',\n",
       " 'ggZvvH125',\n",
       " 'qqWlvH125',\n",
       " 'qqZllH125',\n",
       " 'stopWt',\n",
       " 'stops',\n",
       " 'stopt',\n",
       " 'ttbar',\n",
       " 'ttbar-bb',\n",
       " 'ttbar-bc'}"
      ]
     },
     "execution_count": 43,
     "metadata": {},
     "output_type": "execute_result"
    }
   ],
   "source": [
    "set(df_k1_2['sample'])"
   ]
  },
  {
   "cell_type": "code",
   "execution_count": 32,
   "metadata": {
    "collapsed": true
   },
   "outputs": [],
   "source": [
    "df_k1_2_nottbar = df_k1_2.loc[df_k1_2['category'] != 'ttbar_mc_a']\n",
    "df_k2_2_nottbar = df_k2_2.loc[df_k2_2['category'] != 'ttbar_mc_a']\n",
    "\n",
    "df_k1_3_nottbar = df_k1_3.loc[df_k1_3['category'] != 'ttbar_mc_a']\n",
    "df_k2_3_nottbar = df_k2_3.loc[df_k2_3['category'] != 'ttbar_mc_a']"
   ]
  },
  {
   "cell_type": "code",
   "execution_count": 34,
   "metadata": {
    "collapsed": true
   },
   "outputs": [],
   "source": [
    "df_k1_2 = pd.concat([df_k1_2_nottbar,df_k1_2_ttbar])\n",
    "df_k2_2 = pd.concat([df_k2_2_nottbar,df_k2_2_ttbar])\n",
    "\n",
    "df_k1_3 = pd.concat([df_k1_3_nottbar,df_k1_3_ttbar])\n",
    "df_k2_3 = pd.concat([df_k2_3_nottbar,df_k2_3_ttbar])"
   ]
  },
  {
   "cell_type": "code",
   "execution_count": 36,
   "metadata": {
    "collapsed": true
   },
   "outputs": [],
   "source": [
    "_paths = {'2jet-even':'../CSV/data-v9/VHbb_data_2jet_even.csv',\n",
    "          '2jet-odd':'../CSV/data-v9/VHbb_data_2jet_odd.csv',\n",
    "        '3jet-even':'../CSV/data-v9/VHbb_data_3jet_even.csv',\n",
    "          '3jet-odd':'../CSV/data-v9/VHbb_data_3jet_odd.csv'}\n",
    "\n",
    "\n",
    "df_k1_2.to_csv(_paths[str(2)+'jet-even'])\n",
    "df_k2_2.to_csv(_paths[str(2)+'jet-odd'])\n",
    "df_k1_3.to_csv(_paths[str(3)+'jet-even'])\n",
    "df_k2_3.to_csv(_paths[str(3)+'jet-odd'])\n",
    "\n"
   ]
  },
  {
   "cell_type": "code",
   "execution_count": 37,
   "metadata": {},
   "outputs": [
    {
     "data": {
      "text/plain": [
       "{'WW',\n",
       " 'WZ',\n",
       " 'Wbb',\n",
       " 'Wbc',\n",
       " 'Wbl',\n",
       " 'Wcc',\n",
       " 'Wcl',\n",
       " 'Wl',\n",
       " 'ZZ',\n",
       " 'Zbb',\n",
       " 'Zbc',\n",
       " 'Zbl',\n",
       " 'Zcc',\n",
       " 'Zcl',\n",
       " 'Zl',\n",
       " 'ggZllH125',\n",
       " 'ggZvvH125',\n",
       " 'qqWlvH125',\n",
       " 'qqZllH125',\n",
       " 'stopWt',\n",
       " 'stops',\n",
       " 'stopt',\n",
       " 'ttbar_mc_a',\n",
       " 'ttbar_mc_b',\n",
       " 'ttbar_mc_c'}"
      ]
     },
     "execution_count": 37,
     "metadata": {},
     "output_type": "execute_result"
    }
   ],
   "source": [
    "df_k2_2= pd.read_csv(_paths[str(2)+'jet-odd'])\n",
    "set(df_k2_2['sample'])"
   ]
  },
  {
   "cell_type": "code",
   "execution_count": 38,
   "metadata": {},
   "outputs": [
    {
     "data": {
      "text/plain": [
       "array(['Class', 'EventNumber', 'EventWeight', 'MET', 'MV1cB1',\n",
       "       'MV1cB1_cont', 'MV1cB2', 'MV1cB2_cont', 'MV1cJ3', 'MV1cJ3_cont',\n",
       "       'Mtop', 'Unnamed: 0', 'Unnamed: 0.1', 'category', 'dPhiLBmin',\n",
       "       'dPhiVBB', 'dRBB', 'dYWH', 'mBB', 'mBBJ', 'mTW', 'nJ', 'nTags',\n",
       "       'nTrackJetsOR', 'pTB1', 'pTB2', 'pTJ3', 'pTV', 'post_fit_weight',\n",
       "       'sample', 'training_weight'], dtype=object)"
      ]
     },
     "execution_count": 38,
     "metadata": {},
     "output_type": "execute_result"
    }
   ],
   "source": [
    "df_k1_2.columns.values"
   ]
  },
  {
   "cell_type": "code",
   "execution_count": null,
   "metadata": {
    "collapsed": true
   },
   "outputs": [],
   "source": []
  }
 ],
 "metadata": {
  "kernelspec": {
   "display_name": "Python 3",
   "language": "python",
   "name": "python3"
  },
  "language_info": {
   "codemirror_mode": {
    "name": "ipython",
    "version": 3
   },
   "file_extension": ".py",
   "mimetype": "text/x-python",
   "name": "python",
   "nbconvert_exporter": "python",
   "pygments_lexer": "ipython3",
   "version": "3.6.4"
  }
 },
 "nbformat": 4,
 "nbformat_minor": 2
}
